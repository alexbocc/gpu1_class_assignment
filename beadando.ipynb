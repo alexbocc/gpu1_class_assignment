{
 "cells": [
  {
   "cell_type": "markdown",
   "metadata": {},
   "source": [
    "# 3D tenzor transzformálása"
   ]
  },
  {
   "cell_type": "markdown",
   "metadata": {},
   "source": [
    "A feladat a következő számolás elvégzése:\n",
    "\\begin{equation}\n",
    "b_{ijk} = \\sum_x \\sum_y\\sum_z a_{xyz}M_{ix}^{(1)}M_{jy}^{(2)}M_{kz}^{(3)}\n",
    "\\end{equation}"
   ]
  },
  {
   "cell_type": "markdown",
   "metadata": {},
   "source": [
    "# Program felépítése\n",
    "\n",
    "Készítettem egy tensor.hpp nevű fájlt, amelynek az a célja, hogy adjon egy egyszerű elérést 2D és 3D tenzorokhoz. Ide írtam még olyan függvényt ami fájlból beolvas egy mátrixot. Ez a fájl egy matrix nevezetű template osztályt tartalmaz, amelynek első template paramétere a mátrix elemeinek típusa, második pedig a mátrix dimenziója. A tárolásra std::vector-t használ.\n",
    "\n",
    "\n",
    "A genMatrix.cpp programot azért írtam, hogy egyszerűen tudjak generálni tetszőleges méretű random mátrixot és ezt fájlba tudjam menteni (ez csak egy segédprogram).\n",
    "\n",
    "A test2D.cpp fájlban implementáltam az órán bemutatott blokkositást a matrix osztályt használva, ezt csak azért csináltam hogy megértsem a blokkosítást. \n",
    "\n",
    "A main.cpp a lényeg, itt van a feladat megoldása."
   ]
  },
  {
   "cell_type": "markdown",
   "metadata": {},
   "source": [
    "# Fordítás"
   ]
  },
  {
   "cell_type": "code",
   "execution_count": 1,
   "metadata": {
    "collapsed": true
   },
   "outputs": [],
   "source": [
    "%%bash\n",
    "clang++ -std=c++14 genMatrix.cpp -o genMatrix"
   ]
  },
  {
   "cell_type": "code",
   "execution_count": 2,
   "metadata": {
    "collapsed": true
   },
   "outputs": [],
   "source": [
    "%%bash\n",
    "clang++ -std=c++14 test2D.cpp -o test2D"
   ]
  },
  {
   "cell_type": "code",
   "execution_count": 3,
   "metadata": {
    "collapsed": true
   },
   "outputs": [],
   "source": [
    "%%bash\n",
    "clang++ -std=c++14 main.cpp -o main"
   ]
  },
  {
   "cell_type": "code",
   "execution_count": 4,
   "metadata": {
    "collapsed": false
   },
   "outputs": [
    {
     "name": "stdout",
     "output_type": "stream",
     "text": [
      "-rwxr-xr-x 1 attila users 65K Jun 19 13:47 \u001b[0m\u001b[01;32mmain\u001b[0m*\r\n",
      "-rwxr-xr-x 1 attila users 55K Jun 19 13:47 \u001b[01;32mtest2D\u001b[0m*\r\n",
      "-rwxr-xr-x 1 attila users 52K Jun 19 13:47 \u001b[01;32mgenMatrix\u001b[0m*\r\n"
     ]
    }
   ],
   "source": [
    "ls -laht genMatrix test2D main"
   ]
  },
  {
   "cell_type": "markdown",
   "metadata": {},
   "source": [
    "# 2D*2D tesztelés"
   ]
  },
  {
   "cell_type": "markdown",
   "metadata": {},
   "source": [
    "### Generálok 2 darab 2x2-es mátrixot"
   ]
  },
  {
   "cell_type": "code",
   "execution_count": 5,
   "metadata": {
    "collapsed": false
   },
   "outputs": [
    {
     "name": "stdout",
     "output_type": "stream",
     "text": [
      "-rw-r--r-- 1 attila users 8.5M Jun 19 13:48 mat2d_2\n",
      "-rw-r--r-- 1 attila users 8.5M Jun 19 13:48 mat2d_1\n",
      "-rw-r--r-- 1 attila users 2.2K Jun 19 13:47 mat2d_3\n"
     ]
    }
   ],
   "source": [
    "%%bash\n",
    "./genMatrix 1024x1024 > mat2d_1\n",
    "./genMatrix 1024x1024 > mat2d_2\n",
    "ls -laht mat2d_*"
   ]
  },
  {
   "cell_type": "code",
   "execution_count": 6,
   "metadata": {
    "collapsed": false
   },
   "outputs": [
    {
     "name": "stdout",
     "output_type": "stream",
     "text": [
      "Sum of abs of difference: 8.84015e-05\n",
      "Non block version time: 59853 ms\n",
      "Block version time (b=64): 25410 ms\n"
     ]
    }
   ],
   "source": [
    "%%bash\n",
    "./test2D 64   #blokk meret"
   ]
  },
  {
   "cell_type": "markdown",
   "metadata": {},
   "source": [
    "# Naiv blokkosítás a 3D tenzor transzformációra"
   ]
  },
  {
   "cell_type": "code",
   "execution_count": 7,
   "metadata": {
    "collapsed": false
   },
   "outputs": [
    {
     "name": "stdout",
     "output_type": "stream",
     "text": [
      "-rw-r--r-- 1 attila users  34K Jun 19 13:49 mat3d\n",
      "-rw-r--r-- 1 attila users 2.2K Jun 19 13:49 mat2d_3\n",
      "-rw-r--r-- 1 attila users 2.2K Jun 19 13:49 mat2d_2\n",
      "-rw-r--r-- 1 attila users 2.2K Jun 19 13:49 mat2d_1\n"
     ]
    }
   ],
   "source": [
    "%%bash\n",
    "./genMatrix 16x16 > mat2d_1\n",
    "./genMatrix 16x16 > mat2d_2\n",
    "./genMatrix 16x16 > mat2d_3\n",
    "./genMatrix 16x16x16 > mat3d\n",
    "ls -laht mat*"
   ]
  },
  {
   "cell_type": "code",
   "execution_count": 8,
   "metadata": {
    "collapsed": false
   },
   "outputs": [
    {
     "name": "stdout",
     "output_type": "stream",
     "text": [
      "Sum of abs of difference: 0.00494705\n",
      "Non block version time: 847 ms\n",
      "Block version time (b=4): 936 ms\n"
     ]
    }
   ],
   "source": [
    "%%bash\n",
    "./main 4 0 \"test\""
   ]
  },
  {
   "cell_type": "markdown",
   "metadata": {},
   "source": [
    "Ez a verzió nem igazán hasznos, ezért csináltam egy másik változatot is."
   ]
  },
  {
   "cell_type": "markdown",
   "metadata": {},
   "source": [
    "# Gyors megoldás"
   ]
  },
  {
   "cell_type": "code",
   "execution_count": 9,
   "metadata": {
    "collapsed": false
   },
   "outputs": [
    {
     "name": "stdout",
     "output_type": "stream",
     "text": [
      "Sum of abs of difference: 0.00487664\n",
      "Non block version time: 831 ms\n",
      "Block version time (b=4): 7 ms\n"
     ]
    }
   ],
   "source": [
    "%%bash\n",
    "./main 4 1 \"test\""
   ]
  },
  {
   "cell_type": "markdown",
   "metadata": {},
   "source": [
    "Látható, hogy az eredeti blokkosítás nélküli szorzás és a blokkosított verzió közötti eltérések abszolút értékét ha felösszegezzük nagyon kis értéket kapunk (azért nem egzaktul nulla mert kerekítési hibák vannak). Tehát az algoritmus amit írtam valószínűleg jól működik és elképesztően gyors a naiv változathoz képest. Az eredményt a result nevű fájlba került, a biztos jó változat és a blokkosított változat közti különbségmátrix pedig a difference nevezetű fájlba."
   ]
  },
  {
   "cell_type": "code",
   "execution_count": 10,
   "metadata": {
    "collapsed": false
   },
   "outputs": [
    {
     "name": "stdout",
     "output_type": "stream",
     "text": [
      "-rw-r--r-- 1 attila users 47K Jun 19 13:49 difference\n",
      "-rw-r--r-- 1 attila users 50K Jun 19 13:49 result\n"
     ]
    }
   ],
   "source": [
    "%%bash\n",
    "ls -lah result difference"
   ]
  },
  {
   "cell_type": "markdown",
   "metadata": {},
   "source": [
    "# Számolási idő függése a mátrixmérettől"
   ]
  },
  {
   "cell_type": "code",
   "execution_count": 11,
   "metadata": {
    "collapsed": false
   },
   "outputs": [
    {
     "name": "stdout",
     "output_type": "stream",
     "text": [
      "-rw-r--r-- 1 attila users 270K Jun 19 13:50 mat3d\n",
      "-rw-r--r-- 1 attila users 8.5K Jun 19 13:50 mat2d_3\n",
      "-rw-r--r-- 1 attila users 8.5K Jun 19 13:50 mat2d_2\n",
      "-rw-r--r-- 1 attila users 8.5K Jun 19 13:50 mat2d_1\n"
     ]
    }
   ],
   "source": [
    "%%bash\n",
    "./genMatrix 32x32 > mat2d_1\n",
    "./genMatrix 32x32 > mat2d_2\n",
    "./genMatrix 32x32 > mat2d_3\n",
    "./genMatrix 32x32x32 > mat3d\n",
    "ls -laht mat*"
   ]
  },
  {
   "cell_type": "code",
   "execution_count": 12,
   "metadata": {
    "collapsed": false
   },
   "outputs": [
    {
     "name": "stdout",
     "output_type": "stream",
     "text": [
      "Block size = 4; time = 136 ms\n"
     ]
    }
   ],
   "source": [
    "%%bash\n",
    "./main 4 1"
   ]
  },
  {
   "cell_type": "code",
   "execution_count": 13,
   "metadata": {
    "collapsed": false
   },
   "outputs": [
    {
     "name": "stdout",
     "output_type": "stream",
     "text": [
      "Block size = 8; time = 141 ms\n"
     ]
    }
   ],
   "source": [
    "%%bash\n",
    "./main 8 1"
   ]
  },
  {
   "cell_type": "code",
   "execution_count": 14,
   "metadata": {
    "collapsed": false
   },
   "outputs": [
    {
     "name": "stdout",
     "output_type": "stream",
     "text": [
      "Block size = 16; time = 121 ms\n"
     ]
    }
   ],
   "source": [
    "%%bash\n",
    "./main 16 1"
   ]
  },
  {
   "cell_type": "code",
   "execution_count": 15,
   "metadata": {
    "collapsed": false
   },
   "outputs": [
    {
     "name": "stdout",
     "output_type": "stream",
     "text": [
      "-rw-r--r-- 1 attila users 2.2M Jun 19 13:51 mat3d\n",
      "-rw-r--r-- 1 attila users  34K Jun 19 13:51 mat2d_3\n",
      "-rw-r--r-- 1 attila users  34K Jun 19 13:51 mat2d_2\n",
      "-rw-r--r-- 1 attila users  34K Jun 19 13:51 mat2d_1\n"
     ]
    }
   ],
   "source": [
    "%%bash\n",
    "./genMatrix 64x64 > mat2d_1\n",
    "./genMatrix 64x64 > mat2d_2\n",
    "./genMatrix 64x64 > mat2d_3\n",
    "./genMatrix 64x64x64 > mat3d\n",
    "ls -laht mat*"
   ]
  },
  {
   "cell_type": "code",
   "execution_count": 16,
   "metadata": {
    "collapsed": false
   },
   "outputs": [
    {
     "name": "stdout",
     "output_type": "stream",
     "text": [
      "Block size = 4; time = 1804 ms\n"
     ]
    }
   ],
   "source": [
    "%%bash\n",
    "./main 4 1"
   ]
  },
  {
   "cell_type": "code",
   "execution_count": 17,
   "metadata": {
    "collapsed": false
   },
   "outputs": [
    {
     "name": "stdout",
     "output_type": "stream",
     "text": [
      "Block size = 8; time = 1706 ms\n"
     ]
    }
   ],
   "source": [
    "%%bash\n",
    "./main 8 1"
   ]
  },
  {
   "cell_type": "code",
   "execution_count": 18,
   "metadata": {
    "collapsed": false
   },
   "outputs": [
    {
     "name": "stdout",
     "output_type": "stream",
     "text": [
      "Block size = 16; time = 1600 ms\n"
     ]
    }
   ],
   "source": [
    "%%bash\n",
    "./main 16 1"
   ]
  },
  {
   "cell_type": "code",
   "execution_count": 19,
   "metadata": {
    "collapsed": false
   },
   "outputs": [
    {
     "name": "stdout",
     "output_type": "stream",
     "text": [
      "Block size = 32; time = 1723 ms\n"
     ]
    }
   ],
   "source": [
    "%%bash\n",
    "./main 32 1"
   ]
  },
  {
   "cell_type": "markdown",
   "metadata": {},
   "source": [
    "# Grafikon"
   ]
  },
  {
   "cell_type": "code",
   "execution_count": 21,
   "metadata": {
    "collapsed": true
   },
   "outputs": [],
   "source": [
    "import subprocess\n",
    "import os\n",
    "import re\n",
    "\n",
    "def getTime(block):\n",
    "    p = subprocess.Popen([\"./main\", str(block), \"1\"], stdout=subprocess.PIPE)\n",
    "    output, err = p.communicate()\n",
    "    m = re.search('time = [0-9]*', str(output))\n",
    "    return int(m.group(0).split(\" \")[2])"
   ]
  },
  {
   "cell_type": "code",
   "execution_count": 22,
   "metadata": {
    "collapsed": true
   },
   "outputs": [],
   "source": [
    "sizes       = [16, 32, 64, 128, 256, 512]\n",
    "block_sizes = [4, 8, 16, 32, 64]"
   ]
  },
  {
   "cell_type": "code",
   "execution_count": 23,
   "metadata": {
    "collapsed": false
   },
   "outputs": [
    {
     "name": "stdout",
     "output_type": "stream",
     "text": [
      "Running: size=16, block_size=4\n",
      "Running: size=16, block_size=8\n",
      "Running: size=32, block_size=4\n",
      "Running: size=32, block_size=8\n",
      "Running: size=32, block_size=16\n",
      "Running: size=64, block_size=4\n",
      "Running: size=64, block_size=8\n",
      "Running: size=64, block_size=16\n",
      "Running: size=64, block_size=32\n",
      "Running: size=128, block_size=4\n",
      "Running: size=128, block_size=8\n",
      "Running: size=128, block_size=16\n",
      "Running: size=128, block_size=32\n",
      "Running: size=128, block_size=64\n",
      "Running: size=256, block_size=4\n",
      "Running: size=256, block_size=8\n",
      "Running: size=256, block_size=16\n"
     ]
    },
    {
     "ename": "KeyboardInterrupt",
     "evalue": "",
     "output_type": "error",
     "traceback": [
      "\u001b[1;31m---------------------------------------------------------------------------\u001b[0m",
      "\u001b[1;31mKeyboardInterrupt\u001b[0m                         Traceback (most recent call last)",
      "\u001b[1;32m<ipython-input-23-7f6771b6374a>\u001b[0m in \u001b[0;36m<module>\u001b[1;34m()\u001b[0m\n\u001b[0;32m     11\u001b[0m             \u001b[0mtimes\u001b[0m\u001b[1;33m[\u001b[0m\u001b[0msize\u001b[0m\u001b[1;33m]\u001b[0m \u001b[1;33m=\u001b[0m \u001b[1;33m{\u001b[0m\u001b[1;33m}\u001b[0m\u001b[1;33m\u001b[0m\u001b[0m\n\u001b[0;32m     12\u001b[0m         \u001b[0mprint\u001b[0m\u001b[1;33m(\u001b[0m\u001b[1;34m\"Running: size=%d, block_size=%d\"\u001b[0m\u001b[1;33m%\u001b[0m\u001b[1;33m(\u001b[0m\u001b[0msize\u001b[0m\u001b[1;33m,\u001b[0m \u001b[0mb\u001b[0m\u001b[1;33m)\u001b[0m\u001b[1;33m)\u001b[0m\u001b[1;33m\u001b[0m\u001b[0m\n\u001b[1;32m---> 13\u001b[1;33m         \u001b[0mtimes\u001b[0m\u001b[1;33m[\u001b[0m\u001b[0msize\u001b[0m\u001b[1;33m]\u001b[0m\u001b[1;33m[\u001b[0m\u001b[0mb\u001b[0m\u001b[1;33m]\u001b[0m \u001b[1;33m=\u001b[0m \u001b[0mgetTime\u001b[0m\u001b[1;33m(\u001b[0m\u001b[0mb\u001b[0m\u001b[1;33m)\u001b[0m\u001b[1;33m\u001b[0m\u001b[0m\n\u001b[0m",
      "\u001b[1;32m<ipython-input-21-98ad43d5f007>\u001b[0m in \u001b[0;36mgetTime\u001b[1;34m(block)\u001b[0m\n\u001b[0;32m      5\u001b[0m \u001b[1;32mdef\u001b[0m \u001b[0mgetTime\u001b[0m\u001b[1;33m(\u001b[0m\u001b[0mblock\u001b[0m\u001b[1;33m)\u001b[0m\u001b[1;33m:\u001b[0m\u001b[1;33m\u001b[0m\u001b[0m\n\u001b[0;32m      6\u001b[0m     \u001b[0mp\u001b[0m \u001b[1;33m=\u001b[0m \u001b[0msubprocess\u001b[0m\u001b[1;33m.\u001b[0m\u001b[0mPopen\u001b[0m\u001b[1;33m(\u001b[0m\u001b[1;33m[\u001b[0m\u001b[1;34m\"./main\"\u001b[0m\u001b[1;33m,\u001b[0m \u001b[0mstr\u001b[0m\u001b[1;33m(\u001b[0m\u001b[0mblock\u001b[0m\u001b[1;33m)\u001b[0m\u001b[1;33m,\u001b[0m \u001b[1;34m\"1\"\u001b[0m\u001b[1;33m]\u001b[0m\u001b[1;33m,\u001b[0m \u001b[0mstdout\u001b[0m\u001b[1;33m=\u001b[0m\u001b[0msubprocess\u001b[0m\u001b[1;33m.\u001b[0m\u001b[0mPIPE\u001b[0m\u001b[1;33m)\u001b[0m\u001b[1;33m\u001b[0m\u001b[0m\n\u001b[1;32m----> 7\u001b[1;33m     \u001b[0moutput\u001b[0m\u001b[1;33m,\u001b[0m \u001b[0merr\u001b[0m \u001b[1;33m=\u001b[0m \u001b[0mp\u001b[0m\u001b[1;33m.\u001b[0m\u001b[0mcommunicate\u001b[0m\u001b[1;33m(\u001b[0m\u001b[1;33m)\u001b[0m\u001b[1;33m\u001b[0m\u001b[0m\n\u001b[0m\u001b[0;32m      8\u001b[0m     \u001b[0mm\u001b[0m \u001b[1;33m=\u001b[0m \u001b[0mre\u001b[0m\u001b[1;33m.\u001b[0m\u001b[0msearch\u001b[0m\u001b[1;33m(\u001b[0m\u001b[1;34m'time = [0-9]*'\u001b[0m\u001b[1;33m,\u001b[0m \u001b[0mstr\u001b[0m\u001b[1;33m(\u001b[0m\u001b[0moutput\u001b[0m\u001b[1;33m)\u001b[0m\u001b[1;33m)\u001b[0m\u001b[1;33m\u001b[0m\u001b[0m\n\u001b[0;32m      9\u001b[0m     \u001b[1;32mreturn\u001b[0m \u001b[0mint\u001b[0m\u001b[1;33m(\u001b[0m\u001b[0mm\u001b[0m\u001b[1;33m.\u001b[0m\u001b[0mgroup\u001b[0m\u001b[1;33m(\u001b[0m\u001b[1;36m0\u001b[0m\u001b[1;33m)\u001b[0m\u001b[1;33m.\u001b[0m\u001b[0msplit\u001b[0m\u001b[1;33m(\u001b[0m\u001b[1;34m\" \"\u001b[0m\u001b[1;33m)\u001b[0m\u001b[1;33m[\u001b[0m\u001b[1;36m2\u001b[0m\u001b[1;33m]\u001b[0m\u001b[1;33m)\u001b[0m\u001b[1;33m\u001b[0m\u001b[0m\n",
      "\u001b[1;32m/home/attila/.anaconda/lib/python3.5/subprocess.py\u001b[0m in \u001b[0;36mcommunicate\u001b[1;34m(self, input, timeout)\u001b[0m\n\u001b[0;32m   1053\u001b[0m                 \u001b[0mself\u001b[0m\u001b[1;33m.\u001b[0m\u001b[0m_stdin_write\u001b[0m\u001b[1;33m(\u001b[0m\u001b[0minput\u001b[0m\u001b[1;33m)\u001b[0m\u001b[1;33m\u001b[0m\u001b[0m\n\u001b[0;32m   1054\u001b[0m             \u001b[1;32melif\u001b[0m \u001b[0mself\u001b[0m\u001b[1;33m.\u001b[0m\u001b[0mstdout\u001b[0m\u001b[1;33m:\u001b[0m\u001b[1;33m\u001b[0m\u001b[0m\n\u001b[1;32m-> 1055\u001b[1;33m                 \u001b[0mstdout\u001b[0m \u001b[1;33m=\u001b[0m \u001b[0mself\u001b[0m\u001b[1;33m.\u001b[0m\u001b[0mstdout\u001b[0m\u001b[1;33m.\u001b[0m\u001b[0mread\u001b[0m\u001b[1;33m(\u001b[0m\u001b[1;33m)\u001b[0m\u001b[1;33m\u001b[0m\u001b[0m\n\u001b[0m\u001b[0;32m   1056\u001b[0m                 \u001b[0mself\u001b[0m\u001b[1;33m.\u001b[0m\u001b[0mstdout\u001b[0m\u001b[1;33m.\u001b[0m\u001b[0mclose\u001b[0m\u001b[1;33m(\u001b[0m\u001b[1;33m)\u001b[0m\u001b[1;33m\u001b[0m\u001b[0m\n\u001b[0;32m   1057\u001b[0m             \u001b[1;32melif\u001b[0m \u001b[0mself\u001b[0m\u001b[1;33m.\u001b[0m\u001b[0mstderr\u001b[0m\u001b[1;33m:\u001b[0m\u001b[1;33m\u001b[0m\u001b[0m\n",
      "\u001b[1;31mKeyboardInterrupt\u001b[0m: "
     ]
    }
   ],
   "source": [
    "times = {}\n",
    "for size in sizes:\n",
    "    os.system(\"./genMatrix \"+str(size)+\"x\"+str(size)+\" > mat2d_1\");\n",
    "    os.system(\"./genMatrix \"+str(size)+\"x\"+str(size)+\" > mat2d_2\");\n",
    "    os.system(\"./genMatrix \"+str(size)+\"x\"+str(size)+\" > mat2d_3\");\n",
    "    os.system(\"./genMatrix \"+str(size)+\"x\"+str(size)+\"x\"+str(size)+\" > mat3d\");\n",
    "    for b in block_sizes:\n",
    "        if b>=size:\n",
    "            continue\n",
    "        if size not in times:\n",
    "            times[size] = {}\n",
    "        print(\"Running: size=%d, block_size=%d\"%(size, b))\n",
    "        times[size][b] = getTime(b)"
   ]
  },
  {
   "cell_type": "markdown",
   "metadata": {},
   "source": [
    "Hamarabb leállítottam a futást, mert a 256-os mátrixméretnél már nagyon sokat kellett várni."
   ]
  },
  {
   "cell_type": "code",
   "execution_count": 24,
   "metadata": {
    "collapsed": false
   },
   "outputs": [
    {
     "data": {
      "text/plain": [
       "{16: {4: 7, 8: 6},\n",
       " 32: {4: 133, 8: 117, 16: 100},\n",
       " 64: {4: 1874, 8: 1688, 16: 1624, 32: 1654},\n",
       " 128: {4: 30298, 8: 27340, 16: 28330, 32: 46366, 64: 51194},\n",
       " 256: {4: 493264, 8: 443595}}"
      ]
     },
     "execution_count": 24,
     "metadata": {},
     "output_type": "execute_result"
    }
   ],
   "source": [
    "times"
   ]
  },
  {
   "cell_type": "code",
   "execution_count": 31,
   "metadata": {
    "collapsed": false
   },
   "outputs": [],
   "source": [
    "x=list(times.keys())\n",
    "y1 = []\n",
    "y2 = []\n",
    "for k in times:\n",
    "    y1.append(times[k][4])\n",
    "    y2.append(times[k][8])"
   ]
  },
  {
   "cell_type": "code",
   "execution_count": 35,
   "metadata": {
    "collapsed": false
   },
   "outputs": [],
   "source": [
    "import matplotlib.pyplot as plt\n",
    "%matplotlib inline"
   ]
  },
  {
   "cell_type": "markdown",
   "metadata": {},
   "source": [
    "# Számolási idő függése a mátrix mérettől"
   ]
  },
  {
   "cell_type": "code",
   "execution_count": 50,
   "metadata": {
    "collapsed": false
   },
   "outputs": [
    {
     "data": {
      "image/png": "[encoded data removed]",
      "text/plain": [
       "<matplotlib.figure.Figure at 0x7f10b9524be0>"
      ]
     },
     "metadata": {},
     "output_type": "display_data"
    }
   ],
   "source": [
    "plt.figure(figsize=(14,7))\n",
    "plt.yscale(\"log\")\n",
    "plt.xlim([10,258])\n",
    "plt.plot(x, y1, 'o', label='b=4')\n",
    "plt.plot(x, y2, '<', label='b=8')\n",
    "plt.legend(loc=4)\n",
    "plt.xlabel(\"matrix size\")\n",
    "plt.ylabel(\"Time [ms]\")\n",
    "plt.show()"
   ]
  },
  {
   "cell_type": "markdown",
   "metadata": {},
   "source": [
    "# Blokkmérettől való függés, 128-as mátrixméret esetén"
   ]
  },
  {
   "cell_type": "code",
   "execution_count": 61,
   "metadata": {
    "collapsed": false
   },
   "outputs": [
    {
     "data": {
      "image/png": "[encoded data removed]",
      "text/plain": [
       "<matplotlib.figure.Figure at 0x7f10b9df1128>"
      ]
     },
     "metadata": {},
     "output_type": "display_data"
    }
   ],
   "source": [
    "x1=[]\n",
    "y1=[]\n",
    "for k in times[128]:\n",
    "    x1.append(k)\n",
    "    y1.append(times[128][k])\n",
    "plt.figure(figsize=(14,7))\n",
    "plt.xlim([0,70])\n",
    "plt.plot(x1, y1, 'o')\n",
    "plt.xlabel(\"block size\")\n",
    "plt.ylabel(\"Time [ms]\")\n",
    "plt.show()"
   ]
  },
  {
   "cell_type": "markdown",
   "metadata": {},
   "source": [
    "Az ábrán az látszik, hogy 8-as blokkméret esetén kapjuk a leggyorsabb futást."
   ]
  },
  {
   "cell_type": "markdown",
   "metadata": {},
   "source": [
    "# Példaeredmény generálása"
   ]
  },
  {
   "cell_type": "code",
   "execution_count": 62,
   "metadata": {
    "collapsed": false
   },
   "outputs": [
    {
     "name": "stdout",
     "output_type": "stream",
     "text": [
      "-rw-r--r-- 1 attila users 270K Jun 19 14:54 mat3d\n",
      "-rw-r--r-- 1 attila users 8.5K Jun 19 14:54 mat2d_3\n",
      "-rw-r--r-- 1 attila users 8.5K Jun 19 14:54 mat2d_2\n",
      "-rw-r--r-- 1 attila users 8.5K Jun 19 14:54 mat2d_1\n"
     ]
    }
   ],
   "source": [
    "%%bash\n",
    "./genMatrix 32x32 > mat2d_1\n",
    "./genMatrix 32x32 > mat2d_2\n",
    "./genMatrix 32x32 > mat2d_3\n",
    "./genMatrix 32x32x32 > mat3d\n",
    "ls -laht mat*"
   ]
  },
  {
   "cell_type": "code",
   "execution_count": 63,
   "metadata": {
    "collapsed": false
   },
   "outputs": [
    {
     "name": "stdout",
     "output_type": "stream",
     "text": [
      "Sum of abs of difference: 0.277295\n",
      "Non block version time: 58315 ms\n",
      "Block version time (b=4): 157 ms\n"
     ]
    }
   ],
   "source": [
    "%%bash\n",
    "./main 4 1 \"test\""
   ]
  }
 ],
 "metadata": {
  "kernelspec": {
   "display_name": "Python 3",
   "language": "python",
   "name": "python3"
  },
  "language_info": {
   "codemirror_mode": {
    "name": "ipython",
    "version": 3
   },
   "file_extension": ".py",
   "mimetype": "text/x-python",
   "name": "python",
   "nbconvert_exporter": "python",
   "pygments_lexer": "ipython3",
   "version": "3.5.1"
  }
 },
 "nbformat": 4,
 "nbformat_minor": 0
}
